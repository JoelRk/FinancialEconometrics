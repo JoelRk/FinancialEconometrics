{
 "cells": [
  {
   "cell_type": "markdown",
   "metadata": {},
   "source": [
    "# OLS, Testing\n",
    "\n",
    "This notebook estimates a linear regression and tests various hypotheses using standard errors assuming (a) iid residuals (Gauss-Markov assumptions); (b) heteroskedasticity (White); (c) autocorrelation and heteroskedasticity (Newey-West)."
   ]
  },
  {
   "cell_type": "markdown",
   "metadata": {},
   "source": [
    "## Load Packages and Extra Functions"
   ]
  },
  {
   "cell_type": "code",
   "execution_count": 1,
   "metadata": {},
   "outputs": [
    {
     "data": {
      "text/plain": [
       "OlsFn"
      ]
     },
     "execution_count": 1,
     "metadata": {},
     "output_type": "execute_result"
    }
   ],
   "source": [
    "using Dates, DelimitedFiles, Statistics, LinearAlgebra, Distributions\n",
    "\n",
    "include(\"jlFiles/printmat.jl\")\n",
    "include(\"jlFiles/OlsFn.jl\")         #functions for OLS"
   ]
  },
  {
   "cell_type": "markdown",
   "metadata": {},
   "source": [
    "## Loading Data"
   ]
  },
  {
   "cell_type": "code",
   "execution_count": 2,
   "metadata": {},
   "outputs": [
    {
     "name": "stdout",
     "output_type": "stream",
     "text": [
      "Sample size:       388\n"
     ]
    }
   ],
   "source": [
    "x = readdlm(\"Data/FFmFactorsPs.csv\",',',skipstart=1)\n",
    "\n",
    "                #yearmonth, market, small minus big, high minus low\n",
    "(ym,Rme,RSMB,RHML) = (x[:,1],x[:,2]/100,x[:,3]/100,x[:,4]/100) \n",
    "x = nothing\n",
    "\n",
    "printlnPs(\"Sample size:\",size(Rme))"
   ]
  },
  {
   "cell_type": "markdown",
   "metadata": {},
   "source": [
    "## OLS (assuming iid residuals)"
   ]
  },
  {
   "cell_type": "code",
   "execution_count": 3,
   "metadata": {},
   "outputs": [
    {
     "name": "stdout",
     "output_type": "stream",
     "text": [
      "\u001b[34m\u001b[1mOLS Results (assuming iid residuals)\u001b[22m\u001b[39m\n",
      "\n",
      "            b   std_iid\n",
      "c       0.007     0.002\n",
      "SMB     0.217     0.073\n",
      "HML    -0.429     0.074\n",
      "\n"
     ]
    }
   ],
   "source": [
    "Y = Rme\n",
    "T = size(Y,1)\n",
    "X = [ones(T) RSMB RHML]\n",
    "\n",
    "(b,u,_,V,R2a) = OlsGMFn(Y,X)\n",
    "\n",
    "printblue(\"OLS Results (assuming iid residuals)\\n\")\n",
    "rowNames = [\"c\",\"SMB\",\"HML\"]\n",
    "printTable([b sqrt.(diag(V))],[\"b\",\"std_iid\"],rowNames)"
   ]
  },
  {
   "cell_type": "markdown",
   "metadata": {},
   "source": [
    "# Testing a Joint Hypothesis"
   ]
  },
  {
   "cell_type": "markdown",
   "metadata": {},
   "source": [
    "Since the estimator $\\hat{\\beta}_{_{k\\times1}}$ satisfies\n",
    "\n",
    "$\n",
    "\\hat{\\beta}-\\beta_{0} \\sim N(0,V_{k\\times k})  ,\n",
    "$\n",
    "\n",
    "we can easily apply various tests. To test a joint linear hypothesis of the\n",
    "form\n",
    "\n",
    "$\n",
    "\\gamma_{J\\times1}=R\\beta-q,\n",
    "$\n",
    "\n",
    "use the test\n",
    "\n",
    "$\n",
    "(R\\beta-q)^{\\prime}\\Lambda ^{-1}(R\\beta\n",
    "-q)\\overset{d}{\\rightarrow}\\chi_{J}^{2} \\: \\text{, where } \\: \\Lambda=RVR^{\\prime}.\n",
    "$\n",
    "\n",
    "Clearly, this approach is valid also when $V$ has been estimated by one of the other methods (allowing for heteroskedasticity and/or autocorrelation)."
   ]
  },
  {
   "cell_type": "code",
   "execution_count": 4,
   "metadata": {},
   "outputs": [
    {
     "name": "stdout",
     "output_type": "stream",
     "text": [
      "\u001b[34m\u001b[1mTesting Rb = a:\u001b[22m\u001b[39m\n",
      "test-statistic and 10% critical value of chi-square(2)\n",
      "    60.010     4.605\n",
      "\n"
     ]
    }
   ],
   "source": [
    "R = [0 1 0;               #testing if b(2)=0 and b(3)=0\n",
    "     0 0 1]\n",
    "q = [0;0]\n",
    "Γ = R*V*R'\n",
    "test_stat = (R*b-q)'inv(Γ)*(R*b-q)\n",
    "\n",
    "printblue(\"Testing Rb = a:\")\n",
    "println(\"test-statistic and 10% critical value of chi-square(2)\")\n",
    "printmat([test_stat quantile(Chisq(2),0.9)])"
   ]
  },
  {
   "cell_type": "markdown",
   "metadata": {},
   "source": [
    "# Distribution of OLS Estimates without Gauss-Markov\n",
    "\n",
    "\n",
    "The distribution of the OLS estimates is (typically)\n",
    "\n",
    "$\n",
    "(\\hat{\\beta}-\\beta_{0})\\overset{d}{\\rightarrow}N(0,V)\n",
    "\\: \\text{ where } \\: V=S_{xx}^{-1} S S_{xx}^{-1}\n",
    "$\n",
    "\n",
    "and where $S$ is the covariance matrix of $\\sum_{t=1}^{T}u_{t}x_{t}$.\n",
    "\n",
    "*When* the Gauss-Markov assumptions do hold, then $S$ can be simplified as $S=S_{xx}\\sigma^2$, where $\\sigma^2$ is the variance of $u_t$. Clearly, this means that $V$ can be written $V=S_{xx}^{-1}\\sigma^2$. \n",
    "\n",
    "In contrast, with heteroskedasticity and/or autocorrrelation $S$ must be estimated differently."
   ]
  },
  {
   "cell_type": "markdown",
   "metadata": {},
   "source": [
    "# White's Covariance Matrix"
   ]
  },
  {
   "cell_type": "code",
   "execution_count": 5,
   "metadata": {},
   "outputs": [
    {
     "name": "stdout",
     "output_type": "stream",
     "text": [
      "\u001b[34m\u001b[1mStandard errors from different methods:\u001b[22m\u001b[39m\n",
      "              b     std_iid   std_White\n",
      "c         0.007       0.002       0.002\n",
      "SMB       0.217       0.073       0.113\n",
      "HML      -0.429       0.074       0.097\n",
      "\n"
     ]
    }
   ],
   "source": [
    "Sxx = X'X\n",
    "\n",
    "S_iid   = Sxx*var(u)                    #iid, Gauss-Markov\n",
    "V_iid   = inv(Sxx)'S_iid*inv(Sxx)     \n",
    "std_iid = sqrt.(diag(V_iid))\n",
    "\n",
    "S_W   = (X.*u)'*(X.*u)                  #sam as Sum[x_t*x_t'*u_t^2,t=1:T]\n",
    "V_W   = inv(Sxx)'S_W*inv(Sxx)           #Cov(b), White\n",
    "std_W = sqrt.(diag(V_W))\n",
    "\n",
    "printblue(\"Standard errors from different methods:\")\n",
    "xx = [b std_iid std_W]\n",
    "printTable(xx,[\"b\",\"std_iid\",\"std_White\"],rowNames,width=12)"
   ]
  },
  {
   "cell_type": "markdown",
   "metadata": {},
   "source": [
    "# Newey-West's Covariance Matrix\n",
    "\n",
    "Let $g_t$ be a $K$-vector of data.\n",
    "\n",
    "To calculate the Newey-West covariance matrix, we first need the\n",
    "autocovariance matrices $\\Gamma_{s}=\\text{Cov}(g_{t},g_{t-s})  $, \n",
    "which is estimated as \n",
    "$ \n",
    "\\sum_{t=s+1}^{T} (g_{t}-\\bar{g})(g_{t-s}-\\bar{g})^{\\prime}/T.\n",
    "$\n",
    "\n",
    "Then we form a linear\n",
    "combination (with tent-shaped weights) of those autocovariance matrices (from\n",
    "lag $-m$ to $m$), or equivalently\n",
    "\n",
    "$\n",
    "\\text{Cov}(\\sqrt{T}\\bar{g})  = \n",
    "\\Gamma_{0} + \\sum_{s=1}^{m}( 1-\\frac{s}{m+1})  \n",
    "(\\Gamma_{s}+\\Gamma_{s}^{\\prime}).\n",
    "$\n",
    "\n",
    "Notice that this is the covariance matrix of $\\frac{1}{\\sqrt{T}}\\sum_{t=1}^T g_t.$ \n",
    "\n",
    "If you want covariance matrix of $\\frac{1}{T}\\sum_{t=1}^T g_t$, then *divide* the result by $T$. \n",
    "\n",
    "Conversely, if you want the covariance matrix of $\\sum_{t=1}^T g_t$, then *multiply* the result by $T$."
   ]
  },
  {
   "cell_type": "code",
   "execution_count": 6,
   "metadata": {},
   "outputs": [
    {
     "data": {
      "text/plain": [
       "NWFn"
      ]
     },
     "execution_count": 6,
     "metadata": {},
     "output_type": "execute_result"
    }
   ],
   "source": [
    "\"\"\"\n",
    "    NWFn(g0,m=0)\n",
    "\n",
    "Calculates covariance matrix of sqrt(T)*sample average.\n",
    "\n",
    "# Usage\n",
    "S = NWFn(g0,m)\n",
    "\n",
    "# Input\n",
    "- `g0::Array`: Txq array of q moment conditions\n",
    "- `m:int`: scalar, number of lags to use\n",
    "\n",
    "# Output\n",
    "- `S::Array`: qxq covariance matrix\n",
    "\n",
    "\"\"\"\n",
    "function NWFn(g0,m=0)\n",
    "\n",
    "  T = size(g0,1)                    #g0 is Txq\n",
    "  m = min(m,T-1)                    #number of lags\n",
    "\n",
    "  g = g0 .- mean(g0,dims=1)         #normalizing to Eg=0\n",
    "\n",
    "  S = g'g/T                         #(qxT)*(Txq)\n",
    "  for s = 1:m\n",
    "    Γ_s = g[s+1:T,:]'g[1:T-s,:]/T   #same as Sum[g_t*g_{t-s}',t=s+1,T]\n",
    "    S   = S  +  (1 - s/(m+1))*(Γ_s + Γ_s')\n",
    "  end\n",
    "\n",
    "  return S\n",
    "\n",
    "end"
   ]
  },
  {
   "cell_type": "code",
   "execution_count": 7,
   "metadata": {},
   "outputs": [
    {
     "name": "stdout",
     "output_type": "stream",
     "text": [
      "\u001b[34m\u001b[1mStandard errors from different methods:\u001b[22m\u001b[39m\n",
      "              b     std_iid   std_White      std_NW\n",
      "c         0.007       0.002       0.002       0.002\n",
      "SMB       0.217       0.073       0.113       0.129\n",
      "HML      -0.429       0.074       0.097       0.118\n",
      "\n"
     ]
    }
   ],
   "source": [
    "S_NW   = NWFn(X.*u,2)*T          #Newey-West covariance matrix, 2 lags, notice *T \n",
    "V_NW   = inv(Sxx)'S_NW*inv(Sxx)  #Cov(b), Newey-West\n",
    "std_NW = sqrt.(diag(V_NW))\n",
    "\n",
    "printblue(\"Standard errors from different methods:\")\n",
    "xx = [b std_iid std_W std_NW]\n",
    "printTable(xx,[\"b\",\"std_iid\",\"std_White\",\"std_NW\"],rowNames,width=12)"
   ]
  },
  {
   "cell_type": "code",
   "execution_count": null,
   "metadata": {},
   "outputs": [],
   "source": []
  }
 ],
 "metadata": {
  "@webio": {
   "lastCommId": null,
   "lastKernelId": null
  },
  "anaconda-cloud": {},
  "kernelspec": {
   "display_name": "Julia 1.4.0",
   "language": "julia",
   "name": "julia-1.4"
  },
  "language_info": {
   "file_extension": ".jl",
   "mimetype": "application/julia",
   "name": "julia",
   "version": "1.3.1"
  }
 },
 "nbformat": 4,
 "nbformat_minor": 1
}

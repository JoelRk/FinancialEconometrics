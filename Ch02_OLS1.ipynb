{
 "cells": [
  {
   "cell_type": "markdown",
   "metadata": {},
   "source": [
    "# Basic OLS\n",
    "\n",
    "This notebook estimates a linear regression and reports standard errors (assuming iid residuals).\n",
    "\n",
    "You may also consider the [GLM.jl](https://github.com/JuliaStats/GLM.jl) package."
   ]
  },
  {
   "cell_type": "markdown",
   "metadata": {},
   "source": [
    "## Load Packages and Extra Functions"
   ]
  },
  {
   "cell_type": "code",
   "execution_count": 1,
   "metadata": {},
   "outputs": [
    {
     "data": {
      "text/plain": [
       "printwhere (generic function with 1 method)"
      ]
     },
     "execution_count": 1,
     "metadata": {},
     "output_type": "execute_result"
    }
   ],
   "source": [
    "using Dates, DelimitedFiles, Statistics, LinearAlgebra, Distributions\n",
    "\n",
    "include(\"jlFiles/printmat.jl\")"
   ]
  },
  {
   "cell_type": "markdown",
   "metadata": {},
   "source": [
    "## Loading Data"
   ]
  },
  {
   "cell_type": "code",
   "execution_count": 2,
   "metadata": {},
   "outputs": [
    {
     "name": "stdout",
     "output_type": "stream",
     "text": [
      "Sample size:       388\n"
     ]
    }
   ],
   "source": [
    "x = readdlm(\"Data/FFmFactorsPs.csv\",',',skipstart=1)\n",
    "\n",
    "                #yearmonth, market, small minus big, high minus low\n",
    "(ym,Rme,RSMB,RHML) = (x[:,1],x[:,2]/100,x[:,3]/100,x[:,4]/100) \n",
    "x = nothing\n",
    "\n",
    "printlnPs(\"Sample size:\",size(Rme))"
   ]
  },
  {
   "cell_type": "markdown",
   "metadata": {},
   "source": [
    "## OLS Estimates and Their Distribution"
   ]
  },
  {
   "cell_type": "markdown",
   "metadata": {},
   "source": [
    "Consider the linear regression\n",
    "\n",
    "$\n",
    "y_{t}=\\beta^{\\prime}x_{t}+u_{t},\n",
    "$\n",
    "\n",
    "where $y_{t}$ is a scalar and $x_{t}$ is $k\\times1$. The OLS estimate is\n",
    "\n",
    "$\n",
    "\\hat{\\beta} = S_{xx}^{-1}S_{xy}, \\: \\text{ where } \\: \n",
    "S_{xx}      = \\sum\\nolimits_{t=1}^{T}x_{t}x_{t}^{\\prime}\n",
    "\\: \\text{ and } \\:\n",
    "S_{xy}      = \\sum\\nolimits_{t=1}^{T}x_{t}y_{t}.\n",
    "$\n",
    "\n",
    "When $x_t$ and $u_t$ are independent (Gauss-Markov assumptions), then the distribution of the estimates is (typically)\n",
    "\n",
    "$\n",
    "(\\hat{\\beta}-\\beta_{0})\\overset{d}{\\rightarrow}N(0,S_{xx}^{-1}\\sigma^2),\n",
    "$\n",
    "\n",
    "where $\\sigma^2$ is the variance of the residual.\n",
    "\n",
    "To calculate the estimates and the covariance matrix, we define the matrices $X_{T\\times k}$ and $Y_{T\\times1}$\n",
    "by letting $x_{t}^{\\prime}$ and $y_{t}$ be the $t^{th}$ rows\n",
    "\n",
    "$\n",
    "X_{T\\times k}=\\left[\n",
    "\\begin{array}[c]{l}\n",
    "x_{1}^{\\prime}\\\\\n",
    "\\vdots\\\\\n",
    "x_{T}^{\\prime}\n",
    "\\end{array}\n",
    "\\right] \\ \\text{ and } \\ Y_{T\\times1}=\\left[\n",
    "\\begin{array}[c]{l}\n",
    "y_{1}\\\\\n",
    "\\vdots\\\\\n",
    "y_{T}\n",
    "\\end{array}\n",
    "\\right].\n",
    "$\n",
    "\n",
    "The estimates can then be calculated as \n",
    "```\n",
    "b = X\\Y\n",
    "```"
   ]
  },
  {
   "cell_type": "markdown",
   "metadata": {},
   "source": [
    "## A Function for OLS"
   ]
  },
  {
   "cell_type": "code",
   "execution_count": 3,
   "metadata": {},
   "outputs": [
    {
     "data": {
      "text/plain": [
       "OlsGMFn"
      ]
     },
     "execution_count": 3,
     "metadata": {},
     "output_type": "execute_result"
    }
   ],
   "source": [
    "\"\"\"\n",
    "    OlsGMFn(Y,X)\n",
    "\n",
    "LS of Y on X; for one dependent variable, Gauss-Markov assumptions\n",
    "\n",
    "# Usage\n",
    "(b,u,Yhat,V,R2a) = OlsGMFn(Y,X)\n",
    "\n",
    "# Input\n",
    "- `Y::Array`:     Tx1, the dependent variable\n",
    "- `X::Array`:     Txk matrix of regressors (including deterministic ones)\n",
    "\n",
    "# Output\n",
    "- `b::Array`:     kx1, regression coefficients\n",
    "- `u::Array`:     Tx1, residuals Y - yhat\n",
    "- `Yhat::Array`:  Tx1, fitted values X*b\n",
    "- `V::Array`:     kxk matrix, covariance matrix of b\n",
    "- `R2::Number`:   scalar, R2 value\n",
    "\n",
    "\"\"\"\n",
    "function OlsGMFn(Y,X)\n",
    "    \n",
    "    T    = size(Y,1)\n",
    "    \n",
    "    b    = X\\Y\n",
    "    Yhat = X*b\n",
    "    u    = Y - Yhat\n",
    "    \n",
    "    σ²   = var(u)\n",
    "    V    = inv(X'X)*σ²\n",
    "    R2  = 1 - σ²/var(Y)\n",
    "    \n",
    "    return b, u, Yhat, V, R2\n",
    "    \n",
    "end"
   ]
  },
  {
   "cell_type": "code",
   "execution_count": 4,
   "metadata": {},
   "outputs": [
    {
     "name": "stdout",
     "output_type": "stream",
     "text": [
      "\u001b[34m\u001b[1mOLS Results\u001b[22m\u001b[39m\n",
      "\n",
      "            b       std\n",
      "c       0.007     0.002\n",
      "SMB     0.217     0.073\n",
      "HML    -0.429     0.074\n",
      "\n",
      "      R2:      0.134\n"
     ]
    }
   ],
   "source": [
    "Y = Rme                    #to get standard OLS notation\n",
    "T = size(Y,1)\n",
    "X = [ones(T) RSMB RHML]\n",
    "\n",
    "(b,_,_,V,R2) = OlsGMFn(Y,X)\n",
    "\n",
    "printblue(\"OLS Results\\n\")\n",
    "rowNames = [\"c\",\"SMB\",\"HML\"]\n",
    "printTable([b sqrt.(diag(V))],[\"b\",\"std\"],rowNames)\n",
    "\n",
    "printlnPs(\"R2: \",R2)"
   ]
  },
  {
   "cell_type": "markdown",
   "metadata": {},
   "source": [
    "# Different Ways to Calculate OLS Estimates (extra)"
   ]
  },
  {
   "cell_type": "markdown",
   "metadata": {},
   "source": [
    "Consider the linear regression\n",
    "\n",
    "$\n",
    "y_{t}=\\beta^{\\prime}x_{t}+u_{t},\n",
    "$\n",
    "\n",
    "where $y_{t}$ is a scalar and $x_{t}$ is $k\\times1$. The OLS estimate is\n",
    "\n",
    "$\n",
    "\\hat{\\beta} = S_{xx}^{-1}S_{xy}, \\: \\text{ where } \\: \n",
    "S_{xx}      = \\sum\\nolimits_{t=1}^{T}x_{t}x_{t}^{\\prime}\n",
    "\\: \\text{ and } \\:\n",
    "S_{xy}      = \\sum\\nolimits_{t=1}^{T}x_{t}y_{t}.\n",
    "$\n",
    "\n",
    "\n",
    "Instead of these sums (loops over $t$), matrix multiplication can be used to\n",
    "speed up the calculations. Create matrices $X_{T\\times k}$ and $Y_{T\\times1}$\n",
    "by letting $x_{t}^{\\prime}$ and $y_{t}$ be the $t^{th}$ rows\n",
    "\n",
    "$\n",
    "X_{T\\times k}=\\left[\n",
    "\\begin{array}[c]{l}\n",
    "x_{1}^{\\prime}\\\\\n",
    "\\vdots\\\\\n",
    "x_{T}^{\\prime}\n",
    "\\end{array}\n",
    "\\right] \\ \\text{ and } \\ Y_{T\\times1}=\\left[\n",
    "\\begin{array}[c]{l}\n",
    "y_{1}\\\\\n",
    "\\vdots\\\\\n",
    "y_{T}\n",
    "\\end{array}\n",
    "\\right].\n",
    "$\n",
    "\n",
    "We can then calculate the same matrices as\n",
    "\n",
    "$\n",
    "S_{xx}       =X^{\\prime}X \\ \\text{ and } \\: S_{xy}=X^{\\prime}Y \\: \\text{, so } \\: \n",
    "\\hat{\\beta}  =(X^{\\prime}X)^{-1}X^{\\prime}Y.\n",
    "$\n",
    "\n",
    "However, instead of inverting $S_{xx}$, we typically get much better numerical\n",
    "precision by solving the system of $T$ equations\n",
    "\n",
    "$\n",
    "X_{T\\times k}b_{k\\times1}=Y_{T\\times1}\n",
    "$\n",
    "\n",
    "for the vector $b$ that minimizes the sum of squared errors. This\n",
    "is easily done by using the command\n",
    "```\n",
    "b = X\\Y\n",
    "```"
   ]
  },
  {
   "cell_type": "code",
   "execution_count": 5,
   "metadata": {},
   "outputs": [
    {
     "name": "stdout",
     "output_type": "stream",
     "text": [
      "\u001b[34m\u001b[1mThree different ways to calculate OLS estimates:\u001b[22m\u001b[39m\n",
      "           b1        b2        b3\n",
      "c       0.007     0.007     0.007\n",
      "SMB     0.217     0.217     0.217\n",
      "HML    -0.429    -0.429    -0.429\n",
      "\n"
     ]
    }
   ],
   "source": [
    "printblue(\"Three different ways to calculate OLS estimates:\")\n",
    "\n",
    "K    = size(X,2)\n",
    "S_xx = zeros(K,K)\n",
    "S_xy = zeros(K,1)\n",
    "for t = 1:T\n",
    "    #local x_t, y_t            #only needed in script\n",
    "    #global S_xx, S_xy\n",
    "    x_t = X[t,:]               #a vector\n",
    "    y_t = Y[t:t,:]         \n",
    "    S_xx = S_xx + x_t*x_t'     #KxK\n",
    "    S_xy = S_xy + x_t*y_t      #Kx1\n",
    "end\n",
    "b1 = inv(S_xx)*S_xy          #OLS coeffs, version 1\n",
    "\n",
    "b2 = inv(X'X)*X'Y            #OLS coeffs, version 2\n",
    "\n",
    "b3 = X\\Y                     #OLS coeffs, version 3\n",
    "\n",
    "printTable([b1 b2 b3],[\"b1\",\"b2\",\"b3\"],rowNames)"
   ]
  },
  {
   "cell_type": "code",
   "execution_count": null,
   "metadata": {},
   "outputs": [],
   "source": []
  }
 ],
 "metadata": {
  "@webio": {
   "lastCommId": null,
   "lastKernelId": null
  },
  "anaconda-cloud": {},
  "kernelspec": {
   "display_name": "Julia 1.5.0",
   "language": "julia",
   "name": "julia-1.5"
  },
  "language_info": {
   "file_extension": ".jl",
   "mimetype": "application/julia",
   "name": "julia",
   "version": "1.5.0"
  }
 },
 "nbformat": 4,
 "nbformat_minor": 1
}
